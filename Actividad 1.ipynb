{
 "cells": [
  {
   "cell_type": "code",
   "execution_count": 1,
   "id": "1aa81f81-abd8-4eab-b4ce-2c4e2b9d6b2a",
   "metadata": {},
   "outputs": [],
   "source": [
    "from pyspark.sql import SparkSession \n",
    "\n",
    "sparkSession = SparkSession.builder.appName(\"actividad_1\").getOrCreate()"
   ]
  },
  {
   "cell_type": "code",
   "execution_count": 3,
   "id": "d599f813-3169-43c8-b90c-584fe033ce08",
   "metadata": {},
   "outputs": [
    {
     "name": "stdout",
     "output_type": "stream",
     "text": [
      "Car;MPG;Cylinders;Displacement;Horsepower;Weight;Acceleration;Model;Origin\n"
     ]
    },
    {
     "data": {
      "text/plain": [
       "[(0, 'Car'),\n",
       " (1, 'MPG'),\n",
       " (2, 'Cylinders'),\n",
       " (3, 'Displacement'),\n",
       " (4, 'Horsepower'),\n",
       " (5, 'Weight'),\n",
       " (6, 'Acceleration'),\n",
       " (7, 'Model'),\n",
       " (8, 'Origin')]"
      ]
     },
     "execution_count": 3,
     "metadata": {},
     "output_type": "execute_result"
    }
   ],
   "source": [
    "sparkContext = sparkSession.sparkContext\n",
    "\n",
    "cars = sparkContext.textFile(\"../data/cars.csv\") \n",
    "\n",
    "header_line = cars.first()\n",
    "print(header_line)\n",
    "list(enumerate(header_line.split(';')))"
   ]
  },
  {
   "cell_type": "code",
   "execution_count": 4,
   "id": "be601210-76c5-4edc-89fc-f3745cde64ee",
   "metadata": {},
   "outputs": [
    {
     "data": {
      "text/plain": [
       "['Chevrolet Chevelle Malibu;18.0;8;307.0;130.0;3504.;12.0;70;US',\n",
       " 'Buick Skylark 320;15.0;8;350.0;165.0;3693.;11.5;70;US',\n",
       " 'Plymouth Satellite;18.0;8;318.0;150.0;3436.;11.0;70;US',\n",
       " 'AMC Rebel SST;16.0;8;304.0;150.0;3433.;12.0;70;US',\n",
       " 'Ford Torino;17.0;8;302.0;140.0;3449.;10.5;70;US']"
      ]
     },
     "execution_count": 4,
     "metadata": {},
     "output_type": "execute_result"
    }
   ],
   "source": [
    "#punto 1 : Mostrar las primeras 5 filas\n",
    "cars = cars.filter(lambda line: line != header_line) \n",
    "\n",
    "cars.take(5)"
   ]
  },
  {
   "cell_type": "code",
   "execution_count": 5,
   "id": "06da44e7-7f7a-4cd8-aaec-c5b888427dbd",
   "metadata": {},
   "outputs": [
    {
     "name": "stdout",
     "output_type": "stream",
     "text": [
      "[['Chevrolet Chevelle Malibu', '18.0', '8', '307.0', '130.0', '3504.', '12.0', '70', 'US'], ['Buick Skylark 320', '15.0', '8', '350.0', '165.0', '3693.', '11.5', '70', 'US'], ['Plymouth Satellite', '18.0', '8', '318.0', '150.0', '3436.', '11.0', '70', 'US']]\n"
     ]
    }
   ],
   "source": [
    "cars_tuples_rdd = cars.map(lambda line: line.split(';')) \n",
    "\n",
    "print(cars_tuples_rdd.take(3))"
   ]
  },
  {
   "cell_type": "code",
   "execution_count": 43,
   "id": "ee5a32d7-764e-498e-ad52-e249f8e5b77b",
   "metadata": {},
   "outputs": [
    {
     "data": {
      "text/plain": [
       "[('Chevrolet Chevelle Malibu', 8, 130.0, 3504.0, 12.0, 'US'),\n",
       " ('Buick Skylark 320', 8, 165.0, 3693.0, 11.5, 'US'),\n",
       " ('Plymouth Satellite', 8, 150.0, 3436.0, 11.0, 'US'),\n",
       " ('AMC Rebel SST', 8, 150.0, 3433.0, 12.0, 'US'),\n",
       " ('Ford Torino', 8, 140.0, 3449.0, 10.5, 'US')]"
      ]
     },
     "execution_count": 43,
     "metadata": {},
     "output_type": "execute_result"
    }
   ],
   "source": [
    "cars_tuples_rdd.cache() \n",
    "\n",
    "\n",
    "\n",
    "cars_tuples_format_rdd = cars_tuples_rdd.map(\n",
    "    lambda fields_list : (fields_list[0], #CARS\n",
    "                          int(fields_list[2]), #CYLINDERS\n",
    "                          float(fields_list[4]), #HORSEPOWER\n",
    "                          float(fields_list[5]), #WEIGHT\n",
    "                          float(fields_list[6]), #ACCELERATION\n",
    "                          fields_list[8]  #ORIGIN\n",
    "                         ) \n",
    ")\n",
    "cars_tuples_format_rdd.take(5)"
   ]
  },
  {
   "cell_type": "code",
   "execution_count": 50,
   "id": "fef378c3-f0c1-4bbb-adc2-30a2620c447a",
   "metadata": {},
   "outputs": [
    {
     "data": {
      "text/plain": [
       "[('Citroen DS-21 Pallas', 4, 'Europe'),\n",
       " ('Volkswagen 1131 Deluxe Sedan', 4, 'Europe'),\n",
       " ('Peugeot 504', 4, 'Europe'),\n",
       " ('Audi 100 LS', 4, 'Europe'),\n",
       " ('Saab 99e', 4, 'Europe'),\n",
       " ('BMW 2002', 4, 'Europe'),\n",
       " ('Volkswagen Super Beetle 117', 4, 'Europe'),\n",
       " ('Opel 1900', 4, 'Europe'),\n",
       " ('Peugeot 304', 4, 'Europe'),\n",
       " ('Fiat 124B', 4, 'Europe'),\n",
       " ('Volkswagen Model 111', 4, 'Europe'),\n",
       " ('Volkswagen Type 3', 4, 'Europe'),\n",
       " ('Volvo 145e (sw)', 4, 'Europe'),\n",
       " ('Volkswagen 411 (sw)', 4, 'Europe'),\n",
       " ('Peugeot 504 (sw)', 4, 'Europe'),\n",
       " ('Renault 12 (sw)', 4, 'Europe'),\n",
       " ('Volkswagen Super Beetle', 4, 'Europe'),\n",
       " ('Fiat 124 Sport Coupe', 4, 'Europe'),\n",
       " ('Fiat 128', 4, 'Europe'),\n",
       " ('Opel Manta', 4, 'Europe'),\n",
       " ('Audi 100LS', 4, 'Europe'),\n",
       " ('Volvo 144ea', 4, 'Europe'),\n",
       " ('Saab 99le', 4, 'Europe'),\n",
       " ('Audi Fox', 4, 'Europe'),\n",
       " ('Volkswagen Dasher', 4, 'Europe'),\n",
       " ('Opel Manta', 4, 'Europe'),\n",
       " ('Fiat 128', 4, 'Europe'),\n",
       " ('Fiat 124 TC', 4, 'Europe'),\n",
       " ('Fiat x1.9', 4, 'Europe'),\n",
       " ('Volkswagen Dasher', 4, 'Europe'),\n",
       " ('Volkswagen Rabbit', 4, 'Europe'),\n",
       " ('Audi 100LS', 4, 'Europe'),\n",
       " ('Peugeot 504', 4, 'Europe'),\n",
       " ('Volvo 244DL', 4, 'Europe'),\n",
       " ('Saab 99LE', 4, 'Europe'),\n",
       " ('Fiat 131', 4, 'Europe'),\n",
       " ('Opel 1900', 4, 'Europe'),\n",
       " ('Renault 12tl', 4, 'Europe'),\n",
       " ('Volkswagen Rabbit', 4, 'Europe'),\n",
       " ('Volkswagen Rabbit', 4, 'Europe'),\n",
       " ('Volvo 245', 4, 'Europe'),\n",
       " ('Peugeot 504', 4, 'Europe'),\n",
       " ('Mercedes-Benz 280s', 6, 'Europe'),\n",
       " ('Renault 5 GTL', 4, 'Europe'),\n",
       " ('Volkswagen Rabbit Custom', 4, 'Europe'),\n",
       " ('Volkswagen Dasher', 4, 'Europe'),\n",
       " ('BMW 320i', 4, 'Europe'),\n",
       " ('Volkswagen Rabbit Custom Diesel', 4, 'Europe'),\n",
       " ('Audi 5000', 5, 'Europe'),\n",
       " ('Volvo 264gl', 6, 'Europe'),\n",
       " ('Saab 99gle', 4, 'Europe'),\n",
       " ('Peugeot 604sl', 6, 'Europe'),\n",
       " ('Volkswagen Scirocco', 4, 'Europe'),\n",
       " ('Volkswagen Rabbit Custom', 4, 'Europe'),\n",
       " ('Mercedes Benz 300d', 5, 'Europe'),\n",
       " ('Peugeot 504', 4, 'Europe'),\n",
       " ('Fiat Strada Custom', 4, 'Europe'),\n",
       " ('Volkswagen Rabbit', 4, 'Europe'),\n",
       " ('Audi 4000', 4, 'Europe'),\n",
       " ('Volkswagen Rabbit C (Diesel)', 4, 'Europe'),\n",
       " ('Volkswagen Dasher (diesel)', 4, 'Europe'),\n",
       " ('Audi 5000s (diesel)', 5, 'Europe'),\n",
       " ('Mercedes-Benz 240d', 4, 'Europe'),\n",
       " ('Renault Lecar Deluxe', 4, 'Europe'),\n",
       " ('Volkswagen Rabbit', 4, 'Europe'),\n",
       " ('Triumph TR7 Coupe', 4, 'Europe'),\n",
       " ('Volkswagen Jetta', 4, 'Europe'),\n",
       " ('Renault 18i', 4, 'Europe'),\n",
       " ('Peugeot 505s Turbo Diesel', 4, 'Europe'),\n",
       " ('Saab 900s', 4, 'Europe'),\n",
       " ('Volvo Diesel', 6, 'Europe'),\n",
       " ('Volkswagen Rabbit l', 4, 'Europe'),\n",
       " ('Volkswagen Pickup', 4, 'Europe')]"
      ]
     },
     "execution_count": 50,
     "metadata": {},
     "output_type": "execute_result"
    }
   ],
   "source": [
    "#PUNTO 2 Muestra las columnas ‘Cars’ y ‘Cylinders’ de todos los vehículos que sean de ‘Europa’.\n",
    "cars_eu = cars_tuples_format_rdd.filter(lambda x :(x[5].find(\"Europe\")) != -1).map(\n",
    "    lambda x: (x[0], #CARS\n",
    "               x[1], #CYLINDERS\n",
    "               x[5] #ORIGIN \n",
    "            )\n",
    ")\n",
    "cars_eu.collect()\n"
   ]
  },
  {
   "cell_type": "code",
   "execution_count": 69,
   "id": "8a5a797b-9ae4-4011-b2c7-ad3146ffc62a",
   "metadata": {},
   "outputs": [
    {
     "data": {
      "text/plain": [
       "defaultdict(int, {'US': 254, 'Europe': 73, 'Japan': 79})"
      ]
     },
     "execution_count": 69,
     "metadata": {},
     "output_type": "execute_result"
    }
   ],
   "source": [
    "cars_total = cars_tuples_format_rdd.map( lambda x : x[5])\\\n",
    "                                   .countByValue()\n",
    "\n",
    "cars_total"
   ]
  },
  {
   "cell_type": "code",
   "execution_count": 78,
   "id": "773cb2ca-7d1a-4080-bd48-78c2642fd1b6",
   "metadata": {},
   "outputs": [
    {
     "name": "stdout",
     "output_type": "stream",
     "text": [
      "defaultdict(<class 'int'>, {'Europe': 73})\n",
      "defaultdict(<class 'int'>, {'Japan': 79})\n",
      "defaultdict(<class 'int'>, {'US': 254})\n"
     ]
    }
   ],
   "source": [
    "cars_us = cars_tuples_format_rdd.filter(lambda x :(x[5].find(\"US\")) != -1).map(\n",
    "    lambda x: (x[2], #HORSEPOWER\n",
    "               x[3], #WEIGHT\n",
    "               x[4], #ACCELERATION\n",
    "               x[5] #ORIGIN\n",
    "            )\n",
    ")\n",
    "\n",
    "cars_japan = cars_tuples_format_rdd.filter(lambda x :(x[5].find(\"Japan\")) != -1).map(\n",
    "    lambda x: (x[2], #HORSEPOWER\n",
    "               x[3], #WEIGHT\n",
    "               x[4], #ACCELERATION\n",
    "               x[5] #ORIGIN\n",
    "            )\n",
    ")\n",
    "\n",
    "cars_europe = cars_tuples_format_rdd.filter(lambda x :(x[5].find(\"Europe\")) != -1).map(\n",
    "    lambda x: (x[2], #HORSEPOWER\n",
    "               x[3], #WEIGHT\n",
    "               x[4], #ACCELERATION\n",
    "               x[5] #ORIGIN\n",
    "            )\n",
    ")\n",
    "\n",
    "print(cars_europe.map( lambda x : x[3]).countByValue())                                 \n",
    "print(cars_japan.map( lambda x : x[3]).countByValue())\n",
    "print(cars_us.map( lambda x : x[3]).countByValue())\n",
    "                                   "
   ]
  },
  {
   "cell_type": "code",
   "execution_count": 182,
   "id": "e70d58af-5445-487c-9dde-a619037aa4d1",
   "metadata": {},
   "outputs": [
    {
     "name": "stdout",
     "output_type": "stream",
     "text": [
      "La media de caballos de EUROPA es :  78.78\n",
      "La media de peso de EUROPA es :  2431.49\n",
      "La media de aceleración de EUROPA es :  16.82\n",
      "---------\n",
      "La media de caballos de US es :  118.01\n",
      "La media de peso de US es :  3372.7\n",
      "La media de aceleración de US es :  14.94\n",
      "---------\n",
      "La media de caballos de Japon es :  79.84\n",
      "La media de peso de Japon es :  2221.23\n",
      "La media de aceleración de Japon es :  16.17\n"
     ]
    }
   ],
   "source": [
    "# PUNTO 3 Obtener la media de ‘Horsepower’, ‘Weight’ y ‘Acceleration’ por ‘Origen’.\n",
    "europe_horse= cars_europe.map(\n",
    "    lambda x : (x[0])\n",
    "    ).mean()\n",
    "europe_weight= cars_europe.map(\n",
    "    lambda x : (x[1])\n",
    "    ).mean()\n",
    "europe_acceleration= cars_europe.map(\n",
    "    lambda x : (x[2])\n",
    "    ).mean()\n",
    "\n",
    "us_horse= cars_us.map(\n",
    "    lambda x : (x[0])\n",
    "    ).mean()\n",
    "us_weight= cars_us.map(\n",
    "    lambda x : (x[1])\n",
    "    ).mean()\n",
    "us_acceleration= cars_us.map(\n",
    "    lambda x : (x[2])\n",
    "    ).mean()\n",
    "\n",
    "japan_horse= cars_japan.map(\n",
    "    lambda x : (x[0])\n",
    "    ).mean()\n",
    "japan_weight= cars_japan.map(\n",
    "    lambda x : (x[1])\n",
    "    ).mean()\n",
    "japan_acceleration= cars_japan.map(\n",
    "    lambda x : (x[2])\n",
    "    ).mean()\n",
    "\n",
    "print(\"La media de caballos de EUROPA es : \" , round(europe_horse,2))\n",
    "print(\"La media de peso de EUROPA es : \",  round(europe_weight,2))\n",
    "print(\"La media de aceleración de EUROPA es : \" , round(europe_acceleration,2))\n",
    "print(\"---------\")\n",
    "print(\"La media de caballos de US es : \" , round(us_horse,2))\n",
    "print(\"La media de peso de US es : \",  round(us_weight,2))\n",
    "print(\"La media de aceleración de US es : \" , round(us_acceleration,2))\n",
    "print(\"---------\")\n",
    "print(\"La media de caballos de Japon es : \" , round(japan_horse,2))\n",
    "print(\"La media de peso de Japon es : \",  round(japan_weight,2))\n",
    "print(\"La media de aceleración de Japon es : \" , round(japan_acceleration,2))"
   ]
  },
  {
   "cell_type": "code",
   "execution_count": 197,
   "id": "dd09f82e-60ad-4265-bfba-30418bec5433",
   "metadata": {},
   "outputs": [
    {
     "data": {
      "text/plain": [
       "[(26.95, 8), (22.38, 8), (22.91, 8), (22.89, 8), (24.64, 8)]"
      ]
     },
     "execution_count": 197,
     "metadata": {},
     "output_type": "execute_result"
    }
   ],
   "source": [
    "cars_ratio = cars_tuples_format_rdd.map(\n",
    "    lambda x: (round((x[2] and x[3] /x[2]),2), # peso / caballos , evalua la división por si hay un 0, entonces devolverá 0 (si no haces este control, da error)\n",
    "               x[1]  \n",
    "    )\n",
    ")\n",
    "cars_ratio.take(5)\n"
   ]
  },
  {
   "cell_type": "code",
   "execution_count": 198,
   "id": "d5e431b5-e0ac-4a95-923c-a170c2823d60",
   "metadata": {},
   "outputs": [
    {
     "name": "stdout",
     "output_type": "stream",
     "text": [
      "defaultdict(<class 'int'>, {8: 108, 4: 207, 6: 84, 3: 4, 5: 3})\n"
     ]
    }
   ],
   "source": [
    "print(cars_ratio.map( lambda x : x[1]).countByValue())"
   ]
  },
  {
   "cell_type": "code",
   "execution_count": 214,
   "id": "bd60e8d8-0736-40da-bf30-d374065aeac0",
   "metadata": {},
   "outputs": [
    {
     "name": "stdout",
     "output_type": "stream",
     "text": [
      "La media del ratio peso-potencia con 3 cilindros es:  24.14\n",
      "La media del ratio peso-potencia con 4 cilindros es:  29.25\n",
      "La media del ratio peso-potencia con 5 cilindros es:  39.12\n",
      "La media del ratio peso-potencia con 8 cilindros es:  26.45\n"
     ]
    }
   ],
   "source": [
    "# PUNTO 4 Calcular el ratio entre potencia y peso y, a continuación, sacar la media por cantidad de cilindros .\n",
    "\n",
    "cars_ratio_3 = cars_ratio.filter(lambda x :(x[1] ==3)).map(lambda i : (i[0])).mean()\n",
    "cars_ratio_4 = cars_ratio.filter(lambda x :(x[1] ==4)).map(lambda i : (i[0])).mean()\n",
    "cars_ratio_5 = cars_ratio.filter(lambda x :(x[1] ==5)).map(lambda i : (i[0])).mean()\n",
    "cars_ratio_8 = cars_ratio.filter(lambda x :(x[1] ==8)).map(lambda i : (i[0])).mean()\n",
    "\n",
    "print(\"La media del ratio peso-potencia con 3 cilindros es: \", round(cars_ratio_3,2))\n",
    "print(\"La media del ratio peso-potencia con 4 cilindros es: \", round(cars_ratio_4,2))\n",
    "print(\"La media del ratio peso-potencia con 5 cilindros es: \", round(cars_ratio_5,2))\n",
    "print(\"La media del ratio peso-potencia con 8 cilindros es: \", round(cars_ratio_8,2))\n"
   ]
  },
  {
   "cell_type": "code",
   "execution_count": null,
   "id": "808011e5-c3e2-4051-97c6-789e5cb0b532",
   "metadata": {},
   "outputs": [],
   "source": []
  }
 ],
 "metadata": {
  "kernelspec": {
   "display_name": "Python 3 (ipykernel)",
   "language": "python",
   "name": "python3"
  },
  "language_info": {
   "codemirror_mode": {
    "name": "ipython",
    "version": 3
   },
   "file_extension": ".py",
   "mimetype": "text/x-python",
   "name": "python",
   "nbconvert_exporter": "python",
   "pygments_lexer": "ipython3",
   "version": "3.10.6"
  }
 },
 "nbformat": 4,
 "nbformat_minor": 5
}
