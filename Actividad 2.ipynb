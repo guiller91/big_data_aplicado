{
 "cells": [
  {
   "cell_type": "code",
   "execution_count": 28,
   "id": "3d761a1c-5bb8-476c-935e-4cfb52d8b4c9",
   "metadata": {},
   "outputs": [],
   "source": [
    "from pyspark.sql import SparkSession\n",
    "from pyspark.sql.types import *\n",
    "import pyspark.sql.functions as F\n",
    "spark = SparkSession.builder.appName(\"actividad_2\").getOrCreate()"
   ]
  },
  {
   "cell_type": "code",
   "execution_count": 37,
   "id": "854ea4e1-5832-4839-a351-35c028e0c032",
   "metadata": {},
   "outputs": [],
   "source": [
    "def toUri(path):\n",
    "    return path"
   ]
  },
  {
   "cell_type": "code",
   "execution_count": 35,
   "id": "d29e5717-1dba-4e1b-b0e7-52c1d93ff338",
   "metadata": {},
   "outputs": [],
   "source": [
    "schema_df = StructType([\n",
    "    StructField(\"PROVINCIA\", LongType(), False),    \n",
    "    StructField(\"MUNICIPIO\", LongType(), False),\n",
    "    StructField(\"ESTACION\", LongType(), False),\n",
    "    StructField(\"MAGNITUD\", LongType(), False),\n",
    "    StructField(\"PUNTO_MUESTREO\", StringType(), False),\n",
    "    StructField(\"ANO\", LongType(), False),\n",
    "    StructField(\"MES\", LongType(), False),\n",
    "    StructField(\"DIA\", LongType(), False),\n",
    "    StructField(\"H01\", LongType(), False),\n",
    "    StructField(\"V01\", StringType(), False),\n",
    "    StructField(\"H02\", LongType(), False),\n",
    "    StructField(\"V02\", StringType(), False),\n",
    "    StructField(\"H03\", LongType(), False),\n",
    "    StructField(\"V03\", StringType(), False),\n",
    "    StructField(\"H04\", LongType(), False),\n",
    "    StructField(\"V04\", StringType(), False),\n",
    "    StructField(\"H05\", LongType(), False),\n",
    "    StructField(\"V05\", StringType(), False),\n",
    "    StructField(\"H06\", LongType(), False),\n",
    "    StructField(\"V06\", StringType(), False),\n",
    "    StructField(\"H07\", LongType(), False),\n",
    "    StructField(\"V07\", StringType(), False),\n",
    "    StructField(\"H08\", LongType(), False),\n",
    "    StructField(\"V08\", StringType(), False),\n",
    "    StructField(\"H09\", LongType(), False),\n",
    "    StructField(\"V09\", StringType(), False),\n",
    "    StructField(\"H10\", LongType(), False),\n",
    "    StructField(\"V10\", StringType(), False),\n",
    "    StructField(\"H11\", LongType(), False),\n",
    "    StructField(\"V11\", StringType(), False),\n",
    "    StructField(\"H12\", LongType(), False),\n",
    "    StructField(\"V12\", StringType(), False),\n",
    "    StructField(\"H13\", LongType(), False),\n",
    "    StructField(\"V13\", StringType(), False),\n",
    "    StructField(\"H14\", LongType(), False),\n",
    "    StructField(\"V14\", StringType(), False),\n",
    "    StructField(\"H15\", LongType(), False),\n",
    "    StructField(\"V15\", StringType(), False),\n",
    "    StructField(\"H16\", LongType(), False),\n",
    "    StructField(\"V16\", StringType(), False),\n",
    "    StructField(\"H17\", LongType(), False),\n",
    "    StructField(\"V17\", StringType(), False),\n",
    "    StructField(\"H18\", LongType(), False),\n",
    "    StructField(\"V18\", StringType(), False),\n",
    "    StructField(\"H19\", LongType(), False),\n",
    "    StructField(\"V19\", StringType(), False),\n",
    "    StructField(\"H20\", LongType(), False),\n",
    "    StructField(\"V20\", StringType(), False),\n",
    "    StructField(\"H21\", LongType(), False),\n",
    "    StructField(\"V21\", StringType(), False),\n",
    "    StructField(\"H22\", LongType(), False),\n",
    "    StructField(\"V22\", StringType(), False),\n",
    "    StructField(\"H23\", LongType(), False),\n",
    "    StructField(\"V23\", StringType(), False),\n",
    "    StructField(\"H24\", LongType(), False),\n",
    "    StructField(\"V24\", StringType(), False),\n",
    "     \n",
    "])\n"
   ]
  },
  {
   "cell_type": "code",
   "execution_count": 44,
   "id": "df573dd7-8841-44ef-a738-5a87f6f24cc2",
   "metadata": {},
   "outputs": [
    {
     "name": "stdout",
     "output_type": "stream",
     "text": [
      "root\n",
      " |-- PROVINCIA: long (nullable = true)\n",
      " |-- MUNICIPIO: long (nullable = true)\n",
      " |-- ESTACION: long (nullable = true)\n",
      " |-- MAGNITUD: long (nullable = true)\n",
      " |-- PUNTO_MUESTREO: string (nullable = true)\n",
      " |-- ANO: long (nullable = true)\n",
      " |-- MES: long (nullable = true)\n",
      " |-- DIA: long (nullable = true)\n",
      " |-- H01: long (nullable = true)\n",
      " |-- V01: string (nullable = true)\n",
      " |-- H02: long (nullable = true)\n",
      " |-- V02: string (nullable = true)\n",
      " |-- H03: long (nullable = true)\n",
      " |-- V03: string (nullable = true)\n",
      " |-- H04: long (nullable = true)\n",
      " |-- V04: string (nullable = true)\n",
      " |-- H05: long (nullable = true)\n",
      " |-- V05: string (nullable = true)\n",
      " |-- H06: long (nullable = true)\n",
      " |-- V06: string (nullable = true)\n",
      " |-- H07: long (nullable = true)\n",
      " |-- V07: string (nullable = true)\n",
      " |-- H08: long (nullable = true)\n",
      " |-- V08: string (nullable = true)\n",
      " |-- H09: long (nullable = true)\n",
      " |-- V09: string (nullable = true)\n",
      " |-- H10: long (nullable = true)\n",
      " |-- V10: string (nullable = true)\n",
      " |-- H11: long (nullable = true)\n",
      " |-- V11: string (nullable = true)\n",
      " |-- H12: long (nullable = true)\n",
      " |-- V12: string (nullable = true)\n",
      " |-- H13: long (nullable = true)\n",
      " |-- V13: string (nullable = true)\n",
      " |-- H14: long (nullable = true)\n",
      " |-- V14: string (nullable = true)\n",
      " |-- H15: long (nullable = true)\n",
      " |-- V15: string (nullable = true)\n",
      " |-- H16: long (nullable = true)\n",
      " |-- V16: string (nullable = true)\n",
      " |-- H17: long (nullable = true)\n",
      " |-- V17: string (nullable = true)\n",
      " |-- H18: long (nullable = true)\n",
      " |-- V18: string (nullable = true)\n",
      " |-- H19: long (nullable = true)\n",
      " |-- V19: string (nullable = true)\n",
      " |-- H20: long (nullable = true)\n",
      " |-- V20: string (nullable = true)\n",
      " |-- H21: long (nullable = true)\n",
      " |-- V21: string (nullable = true)\n",
      " |-- H22: long (nullable = true)\n",
      " |-- V22: string (nullable = true)\n",
      " |-- H23: long (nullable = true)\n",
      " |-- V23: string (nullable = true)\n",
      " |-- H24: long (nullable = true)\n",
      " |-- V24: string (nullable = true)\n",
      "\n"
     ]
    }
   ],
   "source": [
    "df1 = spark.read.csv (toUri('../data/Anio202012/ene_mo20.csv'),header=True,sep=';',schema=schema_df)\n",
    "df2 = spark.read.csv (toUri('../data/Anio202012/feb_mo20.csv'),header=True,sep=';',schema=schema_df)\n",
    "df3 = spark.read.csv (toUri('../data/Anio202012/mar_mo20.csv'),header=True,sep=';',schema=schema_df)\n",
    "df4 = spark.read.csv (toUri('../data/Anio202012/abr_mo20.csv'),header=True,sep=';',schema=schema_df)\n",
    "df5 = spark.read.csv (toUri('../data/Anio202012/may_mo20.csv'),header=True,sep=';',schema=schema_df)\n",
    "df6 = spark.read.csv (toUri('../data/Anio202012/jun_mo20.csv'),header=True,sep=';',schema=schema_df)\n",
    "df7 = spark.read.csv (toUri('../data/Anio202012/jul_mo20.csv'),header=True,sep=';',schema=schema_df)\n",
    "df8 = spark.read.csv (toUri('../data/Anio202012/ago_mo20.csv'),header=True,sep=';',schema=schema_df)\n",
    "df9 = spark.read.csv (toUri('../data/Anio202012/ene_mo20.csv'),header=True,sep=';',schema=schema_df)\n",
    "df10 = spark.read.csv (toUri('../data/Anio202012/oct_mo20.csv'),header=True,sep=';',schema=schema_df)\n",
    "df11 = spark.read.csv (toUri('../data/Anio202012/nov_mo20.csv'),header=True,sep=';',schema=schema_df)\n",
    "df12= spark.read.csv (toUri('../data/Anio202012/dic_mo20.csv'),header=True,sep=';',schema=schema_df)\n",
    "\n",
    "df12.printSchema()"
   ]
  },
  {
   "cell_type": "code",
   "execution_count": 45,
   "id": "0f4ec3a4-e9fc-428d-a0e9-6d3156da3f84",
   "metadata": {},
   "outputs": [],
   "source": [
    "df = df1.union(df2)\n",
    "df = df.union(df3)\n",
    "df = df.union(df4)\n",
    "df = df.union(df5)\n",
    "df = df.union(df6)\n",
    "df = df.union(df7)\n",
    "df = df.union(df8)\n",
    "df = df.union(df9)\n",
    "df = df.union(df10)\n",
    "df = df.union(df11)\n",
    "df = df.union(df12)"
   ]
  },
  {
   "cell_type": "code",
   "execution_count": 47,
   "id": "47783d8a-0a97-4ca1-b883-0cccb4394d38",
   "metadata": {},
   "outputs": [
    {
     "name": "stdout",
     "output_type": "stream",
     "text": [
      "55656\n"
     ]
    }
   ],
   "source": [
    "# PUNTO 3 Carga los datos de calidad de aire de todos los meses del 2020 a un dataframe de Spark.\n",
    "print (df.count())"
   ]
  },
  {
   "cell_type": "code",
   "execution_count": 48,
   "id": "969d34d3-6367-4823-a9d6-adf60f120b1f",
   "metadata": {},
   "outputs": [
    {
     "name": "stdout",
     "output_type": "stream",
     "text": [
      "root\n",
      " |-- PROVINCIA: long (nullable = true)\n",
      " |-- MUNICIPIO: long (nullable = true)\n",
      " |-- ESTACION: long (nullable = true)\n",
      " |-- MAGNITUD: long (nullable = true)\n",
      " |-- PUNTO_MUESTREO: string (nullable = true)\n",
      " |-- ANO: long (nullable = true)\n",
      " |-- MES: long (nullable = true)\n",
      " |-- DIA: long (nullable = true)\n",
      " |-- H01: long (nullable = true)\n",
      " |-- V01: string (nullable = true)\n",
      " |-- H02: long (nullable = true)\n",
      " |-- V02: string (nullable = true)\n",
      " |-- H03: long (nullable = true)\n",
      " |-- V03: string (nullable = true)\n",
      " |-- H04: long (nullable = true)\n",
      " |-- V04: string (nullable = true)\n",
      " |-- H05: long (nullable = true)\n",
      " |-- V05: string (nullable = true)\n",
      " |-- H06: long (nullable = true)\n",
      " |-- V06: string (nullable = true)\n",
      " |-- H07: long (nullable = true)\n",
      " |-- V07: string (nullable = true)\n",
      " |-- H08: long (nullable = true)\n",
      " |-- V08: string (nullable = true)\n",
      " |-- H09: long (nullable = true)\n",
      " |-- V09: string (nullable = true)\n",
      " |-- H10: long (nullable = true)\n",
      " |-- V10: string (nullable = true)\n",
      " |-- H11: long (nullable = true)\n",
      " |-- V11: string (nullable = true)\n",
      " |-- H12: long (nullable = true)\n",
      " |-- V12: string (nullable = true)\n",
      " |-- H13: long (nullable = true)\n",
      " |-- V13: string (nullable = true)\n",
      " |-- H14: long (nullable = true)\n",
      " |-- V14: string (nullable = true)\n",
      " |-- H15: long (nullable = true)\n",
      " |-- V15: string (nullable = true)\n",
      " |-- H16: long (nullable = true)\n",
      " |-- V16: string (nullable = true)\n",
      " |-- H17: long (nullable = true)\n",
      " |-- V17: string (nullable = true)\n",
      " |-- H18: long (nullable = true)\n",
      " |-- V18: string (nullable = true)\n",
      " |-- H19: long (nullable = true)\n",
      " |-- V19: string (nullable = true)\n",
      " |-- H20: long (nullable = true)\n",
      " |-- V20: string (nullable = true)\n",
      " |-- H21: long (nullable = true)\n",
      " |-- V21: string (nullable = true)\n",
      " |-- H22: long (nullable = true)\n",
      " |-- V22: string (nullable = true)\n",
      " |-- H23: long (nullable = true)\n",
      " |-- V23: string (nullable = true)\n",
      " |-- H24: long (nullable = true)\n",
      " |-- V24: string (nullable = true)\n",
      "\n"
     ]
    }
   ],
   "source": [
    "df.printSchema()"
   ]
  },
  {
   "cell_type": "code",
   "execution_count": 63,
   "id": "781e3dd6-cc25-4bce-8a9f-c0460e80d600",
   "metadata": {},
   "outputs": [
    {
     "name": "stdout",
     "output_type": "stream",
     "text": [
      "+---------+---------+--------+--------+--------------+----+---+---+---+---+---+---+---+---+---+---+---+---+---+---+---+---+---+---+---+---+---+---+---+---+---+---+---+---+---+---+---+---+---+---+---+---+---+---+---+---+---+---+---+---+---+---+---+---+---+---+\n",
      "|PROVINCIA|MUNICIPIO|ESTACION|MAGNITUD|PUNTO_MUESTREO| ANO|MES|DIA|H01|V01|H02|V02|H03|V03|H04|V04|H05|V05|H06|V06|H07|V07|H08|V08|H09|V09|H10|V10|H11|V11|H12|V12|H13|V13|H14|V14|H15|V15|H16|V16|H17|V17|H18|V18|H19|V19|H20|V20|H21|V21|H22|V22|H23|V23|H24|V24|\n",
      "+---------+---------+--------+--------+--------------+----+---+---+---+---+---+---+---+---+---+---+---+---+---+---+---+---+---+---+---+---+---+---+---+---+---+---+---+---+---+---+---+---+---+---+---+---+---+---+---+---+---+---+---+---+---+---+---+---+---+---+\n",
      "|       28|       79|       4|       1| 28079004_1_38|2020|  1|  1|  7|  V|  8|  V|  9|  V|  8|  V|  6|  V|  6|  V|  5|  V|  5|  V|  4|  V|  5|  V|  6|  V|  8|  V| 13|  V| 14|  V| 13|  V| 12|  V| 11|  V| 10|  V| 10|  V| 12|  V| 14|  V| 12|  V| 11|  V|  9|  V|\n",
      "|       28|       79|       4|       1| 28079004_1_38|2020|  1|  2|  8|  V|  8|  V|  7|  V|  6|  V|  5|  V|  5|  V|  5|  V|  9|  V| 10|  V|  9|  V|  8|  V| 12|  V| 16|  V| 16|  V| 14|  V| 12|  V| 11|  V| 10|  V| 11|  V| 14|  V| 14|  V| 15|  V| 12|  V| 10|  V|\n",
      "+---------+---------+--------+--------+--------------+----+---+---+---+---+---+---+---+---+---+---+---+---+---+---+---+---+---+---+---+---+---+---+---+---+---+---+---+---+---+---+---+---+---+---+---+---+---+---+---+---+---+---+---+---+---+---+---+---+---+---+\n",
      "only showing top 2 rows\n",
      "\n"
     ]
    }
   ],
   "source": [
    "df.show(2)"
   ]
  },
  {
   "cell_type": "code",
   "execution_count": 53,
   "id": "f5d6b2aa-9a2e-4ce8-8830-6844f39c0da2",
   "metadata": {},
   "outputs": [],
   "source": [
    "df.createOrReplaceTempView('sqlAire')"
   ]
  },
  {
   "cell_type": "code",
   "execution_count": 61,
   "id": "9eab3c1e-ecaa-43e5-b0f3-27fac44aaff3",
   "metadata": {},
   "outputs": [
    {
     "name": "stdout",
     "output_type": "stream",
     "text": [
      "Estaciones diferentes : 153\n"
     ]
    }
   ],
   "source": [
    "#PUNTO 4 Indica el número de estaciones distintas que hay en los ficheros.\n",
    "\n",
    "puntos_muestreo=spark.sql('select DISTINCT punto_muestreo from sqlAire ')\n",
    "print(\"Estaciones diferentes :\",puntos_muestreo.count())"
   ]
  },
  {
   "cell_type": "code",
   "execution_count": 89,
   "id": "e45394f0-7266-4179-835f-23a0fb4fc785",
   "metadata": {},
   "outputs": [
    {
     "name": "stdout",
     "output_type": "stream",
     "text": [
      "Magnitudes diferentes : 14\n"
     ]
    }
   ],
   "source": [
    "#PUNTO 5 Indica el número de los distintas MAGNITUDES que se miden.\n",
    "\n",
    "magnitudes=spark.sql('select DISTINCT magnitud from sqlAire order by magnitud')\n",
    "print(\"Magnitudes diferentes :\",magnitudes.count())"
   ]
  },
  {
   "cell_type": "code",
   "execution_count": 90,
   "id": "51ab4904-bc55-4fd4-b56c-0d3fb3bd871f",
   "metadata": {},
   "outputs": [
    {
     "name": "stdout",
     "output_type": "stream",
     "text": [
      "+--------+\n",
      "|magnitud|\n",
      "+--------+\n",
      "|       1|\n",
      "|       6|\n",
      "|       7|\n",
      "|       8|\n",
      "|       9|\n",
      "|      10|\n",
      "|      12|\n",
      "|      14|\n",
      "|      20|\n",
      "|      30|\n",
      "|      35|\n",
      "|      42|\n",
      "|      43|\n",
      "|      44|\n",
      "+--------+\n",
      "\n"
     ]
    }
   ],
   "source": [
    "magnitudes.show()"
   ]
  },
  {
   "cell_type": "code",
   "execution_count": 87,
   "id": "e7b78dfe-4b66-405d-8cda-f064c9102e6e",
   "metadata": {},
   "outputs": [
    {
     "name": "stdout",
     "output_type": "stream",
     "text": [
      "+--------+-------------+\n",
      "|Magnitud|CountMagnitud|\n",
      "+--------+-------------+\n",
      "|       1|         3590|\n",
      "|       6|         3588|\n",
      "|       7|         8726|\n",
      "|       8|         8726|\n",
      "|       9|         2541|\n",
      "|      10|         4736|\n",
      "|      12|         8726|\n",
      "|      14|         5132|\n",
      "|      20|         2197|\n",
      "|      30|         2197|\n",
      "|      35|         2197|\n",
      "|      42|         1100|\n",
      "|      43|         1100|\n",
      "|      44|         1100|\n",
      "+--------+-------------+\n",
      "\n"
     ]
    }
   ],
   "source": [
    "spark.sql(\"\"\"\n",
    "select Magnitud, count(magnitud) as CountMagnitud\n",
    "from sqlAire\n",
    "group by Magnitud\n",
    "order by Magnitud\n",
    "\"\"\").show()"
   ]
  },
  {
   "cell_type": "code",
   "execution_count": 96,
   "id": "892b037b-9c8b-47fa-b54e-1d7aa1fda5ad",
   "metadata": {},
   "outputs": [
    {
     "name": "stdout",
     "output_type": "stream",
     "text": [
      "+-------------------+\n",
      "|Numero_de_registros|\n",
      "+-------------------+\n",
      "|                306|\n",
      "+-------------------+\n",
      "\n"
     ]
    }
   ],
   "source": [
    "##PUNTO 6 Indica el número de filas que hay para el día 18-01-2020.\n",
    "\n",
    "spark.sql(\"\"\"\n",
    "                select count(*) as Numero_de_registros\n",
    "                from sqlAire\n",
    "                where DIA = 18 and MES = 01 and ANO=2020\n",
    "                \n",
    "                \"\"\").show()"
   ]
  },
  {
   "cell_type": "code",
   "execution_count": 103,
   "id": "004da798-50d2-466d-af92-15f54a165309",
   "metadata": {},
   "outputs": [
    {
     "name": "stdout",
     "output_type": "stream",
     "text": [
      "+----+---+---+---------+\n",
      "| ANO|mes|dia|media_12h|\n",
      "+----+---+---+---------+\n",
      "|2020|  1|  1|      9.5|\n",
      "|2020|  1|  2|     11.2|\n",
      "|2020|  1|  3|      8.6|\n",
      "|2020|  1|  4|      5.4|\n",
      "|2020|  1|  5|      6.0|\n",
      "|2020|  1|  6|      7.0|\n",
      "|2020|  1|  7|     11.1|\n",
      "|2020|  1|  8|     12.4|\n",
      "|2020|  1|  9|     12.8|\n",
      "|2020|  1| 10|      6.5|\n",
      "|2020|  1| 11|      5.6|\n",
      "|2020|  1| 12|      8.0|\n",
      "|2020|  1| 13|      9.0|\n",
      "|2020|  1| 14|      8.2|\n",
      "|2020|  1| 15|      8.1|\n",
      "|2020|  1| 16|      8.2|\n",
      "|2020|  1| 17|      5.9|\n",
      "|2020|  1| 18|      5.5|\n",
      "|2020|  1| 19|      4.5|\n",
      "|2020|  1| 20|      4.6|\n",
      "+----+---+---+---------+\n",
      "only showing top 20 rows\n",
      "\n"
     ]
    }
   ],
   "source": [
    "#PUNTO 7 Averigua la media de dióxido de azufre a las 12h de cada día. A modo de ejemplo el resultado debería mostrar\n",
    "spark.sql(\"\"\"\n",
    "                select ANO, mes, dia, avg(h12) as media_12h\n",
    "                from sqlAire\n",
    "                where magnitud = 1 and V12=\"V\"\n",
    "                group by ano,mes,dia\n",
    "                order by mes,dia,ano\n",
    "                \"\"\").show()"
   ]
  },
  {
   "cell_type": "code",
   "execution_count": null,
   "id": "a099048f-3b1e-4100-8d39-fd0d0e9bd7ee",
   "metadata": {},
   "outputs": [],
   "source": []
  }
 ],
 "metadata": {
  "kernelspec": {
   "display_name": "Python 3 (ipykernel)",
   "language": "python",
   "name": "python3"
  },
  "language_info": {
   "codemirror_mode": {
    "name": "ipython",
    "version": 3
   },
   "file_extension": ".py",
   "mimetype": "text/x-python",
   "name": "python",
   "nbconvert_exporter": "python",
   "pygments_lexer": "ipython3",
   "version": "3.10.6"
  }
 },
 "nbformat": 4,
 "nbformat_minor": 5
}
